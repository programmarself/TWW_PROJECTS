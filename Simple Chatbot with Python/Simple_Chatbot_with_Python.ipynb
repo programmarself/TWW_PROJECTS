{
  "nbformat": 4,
  "nbformat_minor": 0,
  "metadata": {
    "colab": {
      "provenance": []
    },
    "kernelspec": {
      "name": "python3",
      "display_name": "Python 3"
    },
    "language_info": {
      "name": "python"
    }
  },
  "cells": [
    {
      "cell_type": "markdown",
      "source": [
        "# **Simple Chatbot with Python**"
      ],
      "metadata": {
        "id": "269xK_bPnQ0G"
      }
    },
    {
      "cell_type": "markdown",
      "source": [
        "<h2 style=\"font-family: 'poppins'; font-weight: bold; color: Green;\">👨💻 Author: Irfan Ullah Khan</h2>\n",
        "\n",
        "[![GitHub](https://img.shields.io/badge/GitHub-Profile-blue?style=for-the-badge&logo=github)](https://github.com/programmarself)\n",
        "[![Kaggle](https://img.shields.io/badge/Kaggle-Profile-blue?style=for-the-badge&logo=kaggle)](https://www.kaggle.com/programmarself)\n",
        "[![LinkedIn](https://img.shields.io/badge/LinkedIn-Profile-blue?style=for-the-badge&logo=linkedin)](https://www.linkedin.com/in/irfan-ullah-khan-4a2871208/)  \n",
        "\n",
        "[![YouTube](https://img.shields.io/badge/YouTube-Profile-red?style=for-the-badge&logo=youtube)](https://www.youtube.com/@irfanullahkhan7748)\n",
        "[![Email](https://img.shields.io/badge/Email-Contact%20Me-red?style=for-the-badge&logo=email)](mailto:programmarself@gmail.com)\n",
        "[![Website](https://img.shields.io/badge/Website-Contact%20Me-red?style=for-the-badge&logo=website)](https://flowcv.me/ikm)\n"
      ],
      "metadata": {
        "id": "t7fBiGdbnUMV"
      }
    },
    {
      "cell_type": "markdown",
      "source": [
        "This project involves creating a basic rule-based chatbot using Python."
      ],
      "metadata": {
        "id": "SgMoSaRfnUr-"
      }
    },
    {
      "cell_type": "code",
      "source": [
        "# Define a function to respond to user input\n",
        "def chatbot_response(user_input):\n",
        "    user_input = user_input.lower()\n",
        "    if 'hello' in user_input:\n",
        "        return 'Hello! How can I help you today?'\n",
        "    elif 'how are you' in user_input:\n",
        "        return 'I am a bot, but I am doing well! How can I assist you?'\n",
        "    elif 'bye' in user_input:\n",
        "        return 'Goodbye! Have a great day!'\n",
        "    else:\n",
        "        return 'Sorry, I do not understand that.'"
      ],
      "metadata": {
        "id": "5I0M9zFAndbX"
      },
      "execution_count": 1,
      "outputs": []
    },
    {
      "cell_type": "code",
      "source": [
        "# Chatbot interaction\n",
        "print(\"Chatbot: Hi! Type 'bye' to end the conversation.\")\n",
        "while True:\n",
        "    user_input = input('You: ')\n",
        "    response = chatbot_response(user_input)\n",
        "    print(f'Chatbot: {response}')\n",
        "    if 'bye' in user_input.lower():\n",
        "        break"
      ],
      "metadata": {
        "colab": {
          "base_uri": "https://localhost:8080/"
        },
        "id": "AXDerDh7neMC",
        "outputId": "95ea9fb4-2c12-4675-e347-6bccc3a87f20"
      },
      "execution_count": 4,
      "outputs": [
        {
          "output_type": "stream",
          "name": "stdout",
          "text": [
            "Chatbot: Hi! Type 'bye' to end the conversation.\n",
            "You: Hi , how are you ?\n",
            "Chatbot: I am a bot, but I am doing well! How can I assist you?\n",
            "You: bye\n",
            "Chatbot: Goodbye! Have a great day!\n"
          ]
        }
      ]
    }
  ]
}