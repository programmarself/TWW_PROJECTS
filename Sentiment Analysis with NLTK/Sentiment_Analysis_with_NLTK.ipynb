{
  "nbformat": 4,
  "nbformat_minor": 0,
  "metadata": {
    "colab": {
      "provenance": []
    },
    "kernelspec": {
      "name": "python3",
      "display_name": "Python 3"
    },
    "language_info": {
      "name": "python"
    }
  },
  "cells": [
    {
      "cell_type": "markdown",
      "source": [
        "# **Sentiment Analysis with NLTK**"
      ],
      "metadata": {
        "id": "ohzwAeiydv4g"
      }
    },
    {
      "cell_type": "markdown",
      "source": [
        "<h2 style=\"font-family: 'poppins'; font-weight: bold; color: Green;\">👨💻 Author: Irfan Ullah Khan</h2>\n",
        "\n",
        "[![GitHub](https://img.shields.io/badge/GitHub-Profile-blue?style=for-the-badge&logo=github)](https://github.com/programmarself)\n",
        "[![Kaggle](https://img.shields.io/badge/Kaggle-Profile-blue?style=for-the-badge&logo=kaggle)](https://www.kaggle.com/programmarself)\n",
        "[![LinkedIn](https://img.shields.io/badge/LinkedIn-Profile-blue?style=for-the-badge&logo=linkedin)](https://www.linkedin.com/in/irfan-ullah-khan-4a2871208/)  \n",
        "\n",
        "[![YouTube](https://img.shields.io/badge/YouTube-Profile-red?style=for-the-badge&logo=youtube)](https://www.youtube.com/@irfanullahkhan7748)\n",
        "[![Email](https://img.shields.io/badge/Email-Contact%20Me-red?style=for-the-badge&logo=email)](mailto:programmarself@gmail.com)\n",
        "[![Website](https://img.shields.io/badge/Website-Contact%20Me-red?style=for-the-badge&logo=website)](https://flowcv.me/ikm)\n"
      ],
      "metadata": {
        "id": "qT9VQjo7d4UE"
      }
    },
    {
      "cell_type": "markdown",
      "source": [
        "This project uses the Natural Language Toolkit (NLTK) to perform sentiment analysis on text data.\n",
        "\n"
      ],
      "metadata": {
        "id": "fHA6kI64d9AC"
      }
    },
    {
      "cell_type": "code",
      "execution_count": 1,
      "metadata": {
        "colab": {
          "base_uri": "https://localhost:8080/"
        },
        "id": "obKu0UFydm_e",
        "outputId": "d54c8dc2-3f14-4107-d781-b17e945cd577"
      },
      "outputs": [
        {
          "output_type": "stream",
          "name": "stdout",
          "text": [
            "Requirement already satisfied: nltk in /usr/local/lib/python3.10/dist-packages (3.8.1)\n",
            "Requirement already satisfied: click in /usr/local/lib/python3.10/dist-packages (from nltk) (8.1.7)\n",
            "Requirement already satisfied: joblib in /usr/local/lib/python3.10/dist-packages (from nltk) (1.4.2)\n",
            "Requirement already satisfied: regex>=2021.8.3 in /usr/local/lib/python3.10/dist-packages (from nltk) (2024.5.15)\n",
            "Requirement already satisfied: tqdm in /usr/local/lib/python3.10/dist-packages (from nltk) (4.66.5)\n"
          ]
        }
      ],
      "source": [
        "# Install NLTK\n",
        "!pip install nltk"
      ]
    },
    {
      "cell_type": "code",
      "source": [
        "# Import Libraries\n",
        "import nltk\n",
        "from nltk.sentiment.vader import SentimentIntensityAnalyzer\n",
        "from nltk.tokenize import word_tokenize\n",
        "nltk.download('vader_lexicon')\n",
        "nltk.download('punkt')"
      ],
      "metadata": {
        "colab": {
          "base_uri": "https://localhost:8080/"
        },
        "id": "JUoRcmhidpVm",
        "outputId": "6a4ae0cb-9f99-4530-d638-e459f0fa4ebb"
      },
      "execution_count": 2,
      "outputs": [
        {
          "output_type": "stream",
          "name": "stderr",
          "text": [
            "[nltk_data] Downloading package vader_lexicon to /root/nltk_data...\n",
            "[nltk_data] Downloading package punkt to /root/nltk_data...\n",
            "[nltk_data]   Unzipping tokenizers/punkt.zip.\n"
          ]
        },
        {
          "output_type": "execute_result",
          "data": {
            "text/plain": [
              "True"
            ]
          },
          "metadata": {},
          "execution_count": 2
        }
      ]
    },
    {
      "cell_type": "code",
      "source": [
        "# Initialize the sentiment analyzer\n",
        "sid = SentimentIntensityAnalyzer()"
      ],
      "metadata": {
        "id": "4Liln7IbdpX2"
      },
      "execution_count": 3,
      "outputs": []
    },
    {
      "cell_type": "code",
      "source": [
        "# Sample text\n",
        "text = \"I love using Google Colab for python projects. It is fantastic!\""
      ],
      "metadata": {
        "id": "jo4m0HDrdpaK"
      },
      "execution_count": 6,
      "outputs": []
    },
    {
      "cell_type": "code",
      "source": [
        "# Perform sentiment analysis\n",
        "scores = sid.polarity_scores(text)\n",
        "print(scores)"
      ],
      "metadata": {
        "colab": {
          "base_uri": "https://localhost:8080/"
        },
        "id": "H5B1euByelnL",
        "outputId": "df514e8b-427d-4c94-b874-c4fabcf1d936"
      },
      "execution_count": 7,
      "outputs": [
        {
          "output_type": "stream",
          "name": "stdout",
          "text": [
            "{'neg': 0.0, 'neu': 0.497, 'pos': 0.503, 'compound': 0.8439}\n"
          ]
        }
      ]
    },
    {
      "cell_type": "markdown",
      "source": [
        "**1):  'neg' (Negative):** The proportion of the text that is considered negative. In this case, 0.0 means there is no negative sentiment detected in the text.\n",
        "\n",
        "**2): 'neu' (Neutral):** The proportion of the text that is considered neutral. Here, 0.527 indicates that 52.7% of the text is neutral, meaning it's neither positive nor negative.\n",
        "\n",
        "**3): 'pos' (Positive):** The proportion of the text that is considered positive. A value of 0.473 means that 47.3% of the text is positive.\n",
        "\n",
        "**4): 'compound':** The compound score is a normalized score that combines all the individual sentiment scores into a single value.\n",
        "It ranges from -1 (most negative) to +1 (most positive). In this case, 0.8439 indicates a strongly positive sentiment."
      ],
      "metadata": {
        "id": "XrBg_ZU_f0GX"
      }
    },
    {
      "cell_type": "markdown",
      "source": [
        "\n",
        "**Overall Sentiment:**\\\n",
        " The compound score of 0.8439 suggests that the overall sentiment of the text is positive.\\\n",
        "**Distribution of Sentiments:**\\\n",
        "0% of the text is negative.\\\n",
        "49.7% is neutral.\\\n",
        "50.3% is positive."
      ],
      "metadata": {
        "id": "T9tSUGiGg054"
      }
    }
  ]
}